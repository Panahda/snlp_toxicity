{
 "cells": [
  {
   "cell_type": "markdown",
   "id": "768c8a00-1d20-42e4-be87-a706185093b5",
   "metadata": {},
   "source": [
    "### Datasets:\n",
    "#### English\n",
    "1. aalto train.tsv\n",
    "#### German\n",
    "2. https://github.com/germeval2021toxic/SharedTask\n",
    "#### Finnish\n",
    "3. https://huggingface.co/datasets/TurkuNLP/Suomi24-toxicity-annotated"
   ]
  },
  {
   "cell_type": "markdown",
   "id": "bb79bd33-c348-48f9-b483-4982f6bc9100",
   "metadata": {},
   "source": [
    "### Import Libs"
   ]
  },
  {
   "cell_type": "code",
   "execution_count": 2,
   "id": "a64806d4-23f2-4bd8-96f1-09210dca00d0",
   "metadata": {
    "tags": []
   },
   "outputs": [],
   "source": [
    "import pandas as pd"
   ]
  },
  {
   "cell_type": "markdown",
   "id": "cfff5f8c-5fe5-482a-ba69-56ea4ae29b3b",
   "metadata": {},
   "source": [
    "### Load Datasets"
   ]
  },
  {
   "cell_type": "code",
   "execution_count": 73,
   "id": "3546f16b-1b32-4993-8053-c74bda1672d1",
   "metadata": {
    "tags": []
   },
   "outputs": [
    {
     "data": {
      "text/html": [
       "<div>\n",
       "<style scoped>\n",
       "    .dataframe tbody tr th:only-of-type {\n",
       "        vertical-align: middle;\n",
       "    }\n",
       "\n",
       "    .dataframe tbody tr th {\n",
       "        vertical-align: top;\n",
       "    }\n",
       "\n",
       "    .dataframe thead th {\n",
       "        text-align: right;\n",
       "    }\n",
       "</style>\n",
       "<table border=\"1\" class=\"dataframe\">\n",
       "  <thead>\n",
       "    <tr style=\"text-align: right;\">\n",
       "      <th></th>\n",
       "      <th>id</th>\n",
       "      <th>text</th>\n",
       "      <th>label</th>\n",
       "    </tr>\n",
       "  </thead>\n",
       "  <tbody>\n",
       "    <tr>\n",
       "      <th>0</th>\n",
       "      <td>eng_train0</td>\n",
       "      <td>I supported Barack Obama. I thought it was abs...</td>\n",
       "      <td>0</td>\n",
       "    </tr>\n",
       "    <tr>\n",
       "      <th>1</th>\n",
       "      <td>eng_train1</td>\n",
       "      <td>what to hell with that!</td>\n",
       "      <td>1</td>\n",
       "    </tr>\n",
       "    <tr>\n",
       "      <th>2</th>\n",
       "      <td>eng_train2</td>\n",
       "      <td>and the stupidity of the haters continues, thi...</td>\n",
       "      <td>1</td>\n",
       "    </tr>\n",
       "    <tr>\n",
       "      <th>3</th>\n",
       "      <td>eng_train3</td>\n",
       "      <td>Alberta has been in debt under the Conservativ...</td>\n",
       "      <td>0</td>\n",
       "    </tr>\n",
       "    <tr>\n",
       "      <th>4</th>\n",
       "      <td>eng_train4</td>\n",
       "      <td>The TV is in Channel Search mode, and I have p...</td>\n",
       "      <td>0</td>\n",
       "    </tr>\n",
       "  </tbody>\n",
       "</table>\n",
       "</div>"
      ],
      "text/plain": [
       "           id                                               text  label\n",
       "0  eng_train0  I supported Barack Obama. I thought it was abs...      0\n",
       "1  eng_train1                            what to hell with that!      1\n",
       "2  eng_train2  and the stupidity of the haters continues, thi...      1\n",
       "3  eng_train3  Alberta has been in debt under the Conservativ...      0\n",
       "4  eng_train4  The TV is in Channel Search mode, and I have p...      0"
      ]
     },
     "execution_count": 73,
     "metadata": {},
     "output_type": "execute_result"
    }
   ],
   "source": [
    "eng_df = pd.read_csv(\"data/train.tsv\", sep='\\t', header=0, quoting=3)\n",
    "eng_df.head()"
   ]
  },
  {
   "cell_type": "code",
   "execution_count": 11,
   "id": "e0313e5d-9048-4a39-849a-5e4872904887",
   "metadata": {
    "tags": []
   },
   "outputs": [
    {
     "data": {
      "text/html": [
       "<div>\n",
       "<style scoped>\n",
       "    .dataframe tbody tr th:only-of-type {\n",
       "        vertical-align: middle;\n",
       "    }\n",
       "\n",
       "    .dataframe tbody tr th {\n",
       "        vertical-align: top;\n",
       "    }\n",
       "\n",
       "    .dataframe thead th {\n",
       "        text-align: right;\n",
       "    }\n",
       "</style>\n",
       "<table border=\"1\" class=\"dataframe\">\n",
       "  <thead>\n",
       "    <tr style=\"text-align: right;\">\n",
       "      <th></th>\n",
       "      <th>comment_id</th>\n",
       "      <th>comment_text</th>\n",
       "      <th>Sub1_Toxic</th>\n",
       "      <th>Sub2_Engaging</th>\n",
       "      <th>Sub3_FactClaiming</th>\n",
       "    </tr>\n",
       "  </thead>\n",
       "  <tbody>\n",
       "    <tr>\n",
       "      <th>0</th>\n",
       "      <td>1</td>\n",
       "      <td>Ziemlich traurig diese Kommentare zu lesen. Ih...</td>\n",
       "      <td>0</td>\n",
       "      <td>0</td>\n",
       "      <td>0</td>\n",
       "    </tr>\n",
       "    <tr>\n",
       "      <th>1</th>\n",
       "      <td>2</td>\n",
       "      <td>Sag ich doch, wir befeuern den Klimawandel. Ra...</td>\n",
       "      <td>0</td>\n",
       "      <td>1</td>\n",
       "      <td>1</td>\n",
       "    </tr>\n",
       "    <tr>\n",
       "      <th>2</th>\n",
       "      <td>3</td>\n",
       "      <td>Schublade auf, Schublade zu. Zu mehr Denkleist...</td>\n",
       "      <td>1</td>\n",
       "      <td>0</td>\n",
       "      <td>0</td>\n",
       "    </tr>\n",
       "    <tr>\n",
       "      <th>3</th>\n",
       "      <td>4</td>\n",
       "      <td>Dummerweise haben wir in der EU und in der USA...</td>\n",
       "      <td>0</td>\n",
       "      <td>0</td>\n",
       "      <td>1</td>\n",
       "    </tr>\n",
       "    <tr>\n",
       "      <th>4</th>\n",
       "      <td>5</td>\n",
       "      <td>\"So lange Gewinnmaximierung Vorrang hat, wird ...</td>\n",
       "      <td>0</td>\n",
       "      <td>0</td>\n",
       "      <td>0</td>\n",
       "    </tr>\n",
       "  </tbody>\n",
       "</table>\n",
       "</div>"
      ],
      "text/plain": [
       "   comment_id                                       comment_text  Sub1_Toxic  \\\n",
       "0           1  Ziemlich traurig diese Kommentare zu lesen. Ih...           0   \n",
       "1           2  Sag ich doch, wir befeuern den Klimawandel. Ra...           0   \n",
       "2           3  Schublade auf, Schublade zu. Zu mehr Denkleist...           1   \n",
       "3           4  Dummerweise haben wir in der EU und in der USA...           0   \n",
       "4           5  \"So lange Gewinnmaximierung Vorrang hat, wird ...           0   \n",
       "\n",
       "   Sub2_Engaging  Sub3_FactClaiming  \n",
       "0              0                  0  \n",
       "1              1                  1  \n",
       "2              0                  0  \n",
       "3              0                  1  \n",
       "4              0                  0  "
      ]
     },
     "execution_count": 11,
     "metadata": {},
     "output_type": "execute_result"
    }
   ],
   "source": [
    "ger_df = pd.read_csv(\"data/GermEval21_TrainData.csv\")\n",
    "ger_df.head()"
   ]
  },
  {
   "cell_type": "code",
   "execution_count": 12,
   "id": "8e7c35c0-972c-4b99-8fa9-3c567e2fa816",
   "metadata": {
    "tags": []
   },
   "outputs": [
    {
     "data": {
      "text/html": [
       "<div>\n",
       "<style scoped>\n",
       "    .dataframe tbody tr th:only-of-type {\n",
       "        vertical-align: middle;\n",
       "    }\n",
       "\n",
       "    .dataframe tbody tr th {\n",
       "        vertical-align: top;\n",
       "    }\n",
       "\n",
       "    .dataframe thead th {\n",
       "        text-align: right;\n",
       "    }\n",
       "</style>\n",
       "<table border=\"1\" class=\"dataframe\">\n",
       "  <thead>\n",
       "    <tr style=\"text-align: right;\">\n",
       "      <th></th>\n",
       "      <th>ID</th>\n",
       "      <th>label</th>\n",
       "      <th>text</th>\n",
       "    </tr>\n",
       "  </thead>\n",
       "  <tbody>\n",
       "    <tr>\n",
       "      <th>0</th>\n",
       "      <td>s24:55342ca8ce0d352026c8c0e53c70dc8b</td>\n",
       "      <td>toxicity</td>\n",
       "      <td>Persujen mamu-puputus kyllästyttää  mutta mamu...</td>\n",
       "    </tr>\n",
       "    <tr>\n",
       "      <th>1</th>\n",
       "      <td>s24:4ca966fd3197849f902c2ee7f74f2205</td>\n",
       "      <td>toxicity</td>\n",
       "      <td>Suvakit ja hyysärit haluaa saada lapset omaan ...</td>\n",
       "    </tr>\n",
       "    <tr>\n",
       "      <th>2</th>\n",
       "      <td>s24:64844416909031b96232f1d6249d63f6</td>\n",
       "      <td>not-toxicity</td>\n",
       "      <td>VIELÄ YKSI ASIA! NÄMÄ EI OLE HENKILÖVAALIT,VAA...</td>\n",
       "    </tr>\n",
       "    <tr>\n",
       "      <th>3</th>\n",
       "      <td>s24:fa3e78cbbd4d0460c2abc68f274c2596</td>\n",
       "      <td>toxicity</td>\n",
       "      <td>Halosen aikana on lapsiin ja naisiin kohdistun...</td>\n",
       "    </tr>\n",
       "    <tr>\n",
       "      <th>4</th>\n",
       "      <td>s24:b3ba1cf93f83f502c287c344f09f7a11</td>\n",
       "      <td>toxicity</td>\n",
       "      <td>Byää! Byää! Jos tulee vammoja, byää! Saatanan ...</td>\n",
       "    </tr>\n",
       "  </tbody>\n",
       "</table>\n",
       "</div>"
      ],
      "text/plain": [
       "                                     ID         label  \\\n",
       "0  s24:55342ca8ce0d352026c8c0e53c70dc8b      toxicity   \n",
       "1  s24:4ca966fd3197849f902c2ee7f74f2205      toxicity   \n",
       "2  s24:64844416909031b96232f1d6249d63f6  not-toxicity   \n",
       "3  s24:fa3e78cbbd4d0460c2abc68f274c2596      toxicity   \n",
       "4  s24:b3ba1cf93f83f502c287c344f09f7a11      toxicity   \n",
       "\n",
       "                                                text  \n",
       "0  Persujen mamu-puputus kyllästyttää  mutta mamu...  \n",
       "1  Suvakit ja hyysärit haluaa saada lapset omaan ...  \n",
       "2  VIELÄ YKSI ASIA! NÄMÄ EI OLE HENKILÖVAALIT,VAA...  \n",
       "3  Halosen aikana on lapsiin ja naisiin kohdistun...  \n",
       "4  Byää! Byää! Jos tulee vammoja, byää! Saatanan ...  "
      ]
     },
     "execution_count": 12,
     "metadata": {},
     "output_type": "execute_result"
    }
   ],
   "source": [
    "fin_df = pd.read_csv(\"data/finnish_toxicity.tsv\", sep='\\t', header=0, quoting=3)\n",
    "fin_df.head()"
   ]
  },
  {
   "cell_type": "markdown",
   "id": "05827c6c-b4b5-4827-870e-0a74d4b0830a",
   "metadata": {},
   "source": [
    "### Analysis"
   ]
  },
  {
   "cell_type": "code",
   "execution_count": 74,
   "id": "ce395043-4a72-4e1a-907d-a302d5ef1e27",
   "metadata": {
    "tags": []
   },
   "outputs": [
    {
     "name": "stdout",
     "output_type": "stream",
     "text": [
      "<class 'pandas.core.frame.DataFrame'>\n",
      "RangeIndex: 99000 entries, 0 to 98999\n",
      "Data columns (total 3 columns):\n",
      " #   Column  Non-Null Count  Dtype \n",
      "---  ------  --------------  ----- \n",
      " 0   id      99000 non-null  object\n",
      " 1   text    99000 non-null  object\n",
      " 2   label   99000 non-null  int64 \n",
      "dtypes: int64(1), object(2)\n",
      "memory usage: 2.3+ MB\n",
      "\n",
      "\n",
      "<class 'pandas.core.frame.DataFrame'>\n",
      "RangeIndex: 3244 entries, 0 to 3243\n",
      "Data columns (total 5 columns):\n",
      " #   Column             Non-Null Count  Dtype \n",
      "---  ------             --------------  ----- \n",
      " 0   comment_id         3244 non-null   int64 \n",
      " 1   comment_text       3244 non-null   object\n",
      " 2   Sub1_Toxic         3244 non-null   int64 \n",
      " 3   Sub2_Engaging      3244 non-null   int64 \n",
      " 4   Sub3_FactClaiming  3244 non-null   int64 \n",
      "dtypes: int64(4), object(1)\n",
      "memory usage: 126.8+ KB\n",
      "\n",
      "\n",
      "<class 'pandas.core.frame.DataFrame'>\n",
      "RangeIndex: 2260 entries, 0 to 2259\n",
      "Data columns (total 3 columns):\n",
      " #   Column  Non-Null Count  Dtype \n",
      "---  ------  --------------  ----- \n",
      " 0   ID      2260 non-null   object\n",
      " 1   label   2260 non-null   object\n",
      " 2   text    2260 non-null   object\n",
      "dtypes: object(3)\n",
      "memory usage: 53.1+ KB\n"
     ]
    }
   ],
   "source": [
    "eng_df.info()\n",
    "print(f\"\\n\")\n",
    "ger_df.info()\n",
    "print(f\"\\n\")\n",
    "fin_df.info()\n"
   ]
  },
  {
   "cell_type": "markdown",
   "id": "806c9361-f8c4-409d-a1a8-306ee30fca0a",
   "metadata": {},
   "source": [
    "### Data Cleaning and Reshaping\n",
    "1. Clean the datasets\n",
    "2. Reshape to fit the training datasets of Jigsaw\n",
    "3. Create 3 different training datasets of size 100, 200, 350 of each lang"
   ]
  },
  {
   "cell_type": "code",
   "execution_count": 88,
   "id": "a0e2b3ed-8cb6-417a-8436-3b4b525b4450",
   "metadata": {
    "tags": []
   },
   "outputs": [],
   "source": [
    "def rename_ids(df, lang_prefix):\n",
    "    if df is not None and not df.empty:\n",
    "        df = df.reset_index(drop=True)\n",
    "        df['id'] = [f\"{lang_prefix}_train_{i}\" for i in df.index]\n",
    "        cols = ['id'] + [col for col in df.columns if col != 'id']\n",
    "    return df"
   ]
  },
  {
   "cell_type": "code",
   "execution_count": 91,
   "id": "bc814e29-392a-4928-9833-62a294967e9d",
   "metadata": {
    "tags": []
   },
   "outputs": [
    {
     "name": "stdout",
     "output_type": "stream",
     "text": [
      "<class 'pandas.core.frame.DataFrame'>\n",
      "RangeIndex: 99000 entries, 0 to 98999\n",
      "Data columns (total 3 columns):\n",
      " #   Column        Non-Null Count  Dtype \n",
      "---  ------        --------------  ----- \n",
      " 0   id            99000 non-null  object\n",
      " 1   comment_text  99000 non-null  object\n",
      " 2   toxic         99000 non-null  int64 \n",
      "dtypes: int64(1), object(2)\n",
      "memory usage: 2.3+ MB\n"
     ]
    },
    {
     "data": {
      "text/html": [
       "<div>\n",
       "<style scoped>\n",
       "    .dataframe tbody tr th:only-of-type {\n",
       "        vertical-align: middle;\n",
       "    }\n",
       "\n",
       "    .dataframe tbody tr th {\n",
       "        vertical-align: top;\n",
       "    }\n",
       "\n",
       "    .dataframe thead th {\n",
       "        text-align: right;\n",
       "    }\n",
       "</style>\n",
       "<table border=\"1\" class=\"dataframe\">\n",
       "  <thead>\n",
       "    <tr style=\"text-align: right;\">\n",
       "      <th></th>\n",
       "      <th>id</th>\n",
       "      <th>comment_text</th>\n",
       "      <th>toxic</th>\n",
       "    </tr>\n",
       "  </thead>\n",
       "  <tbody>\n",
       "    <tr>\n",
       "      <th>0</th>\n",
       "      <td>eng_train_0</td>\n",
       "      <td>I supported Barack Obama. I thought it was abs...</td>\n",
       "      <td>0</td>\n",
       "    </tr>\n",
       "    <tr>\n",
       "      <th>1</th>\n",
       "      <td>eng_train_1</td>\n",
       "      <td>what to hell with that!</td>\n",
       "      <td>1</td>\n",
       "    </tr>\n",
       "    <tr>\n",
       "      <th>2</th>\n",
       "      <td>eng_train_2</td>\n",
       "      <td>and the stupidity of the haters continues, thi...</td>\n",
       "      <td>1</td>\n",
       "    </tr>\n",
       "    <tr>\n",
       "      <th>3</th>\n",
       "      <td>eng_train_3</td>\n",
       "      <td>Alberta has been in debt under the Conservativ...</td>\n",
       "      <td>0</td>\n",
       "    </tr>\n",
       "    <tr>\n",
       "      <th>4</th>\n",
       "      <td>eng_train_4</td>\n",
       "      <td>The TV is in Channel Search mode, and I have p...</td>\n",
       "      <td>0</td>\n",
       "    </tr>\n",
       "  </tbody>\n",
       "</table>\n",
       "</div>"
      ],
      "text/plain": [
       "            id                                       comment_text  toxic\n",
       "0  eng_train_0  I supported Barack Obama. I thought it was abs...      0\n",
       "1  eng_train_1                            what to hell with that!      1\n",
       "2  eng_train_2  and the stupidity of the haters continues, thi...      1\n",
       "3  eng_train_3  Alberta has been in debt under the Conservativ...      0\n",
       "4  eng_train_4  The TV is in Channel Search mode, and I have p...      0"
      ]
     },
     "execution_count": 91,
     "metadata": {},
     "output_type": "execute_result"
    }
   ],
   "source": [
    "eng_df_cleaned = eng_df.copy()\n",
    "eng_df_cleaned.rename(columns={\n",
    "    'text': 'comment_text',\n",
    "    'label': 'toxic'\n",
    "}, inplace=True)\n",
    "\n",
    "eng_df_cleaned = rename_ids(eng_df_cleaned, 'eng')\n",
    "eng_df_cleaned.info()\n",
    "eng_df_cleaned.head()"
   ]
  },
  {
   "cell_type": "code",
   "execution_count": 95,
   "id": "3a60a4d4-55b8-4ab5-bc5c-779a47a4da52",
   "metadata": {
    "tags": []
   },
   "outputs": [
    {
     "name": "stdout",
     "output_type": "stream",
     "text": [
      "<class 'pandas.core.frame.DataFrame'>\n",
      "RangeIndex: 3244 entries, 0 to 3243\n",
      "Data columns (total 3 columns):\n",
      " #   Column        Non-Null Count  Dtype \n",
      "---  ------        --------------  ----- \n",
      " 0   id            3244 non-null   object\n",
      " 1   comment_text  3244 non-null   object\n",
      " 2   toxic         3244 non-null   int64 \n",
      "dtypes: int64(1), object(2)\n",
      "memory usage: 76.2+ KB\n"
     ]
    },
    {
     "data": {
      "text/html": [
       "<div>\n",
       "<style scoped>\n",
       "    .dataframe tbody tr th:only-of-type {\n",
       "        vertical-align: middle;\n",
       "    }\n",
       "\n",
       "    .dataframe tbody tr th {\n",
       "        vertical-align: top;\n",
       "    }\n",
       "\n",
       "    .dataframe thead th {\n",
       "        text-align: right;\n",
       "    }\n",
       "</style>\n",
       "<table border=\"1\" class=\"dataframe\">\n",
       "  <thead>\n",
       "    <tr style=\"text-align: right;\">\n",
       "      <th></th>\n",
       "      <th>id</th>\n",
       "      <th>comment_text</th>\n",
       "      <th>toxic</th>\n",
       "    </tr>\n",
       "  </thead>\n",
       "  <tbody>\n",
       "    <tr>\n",
       "      <th>0</th>\n",
       "      <td>ger_train_0</td>\n",
       "      <td>Ziemlich traurig diese Kommentare zu lesen. Ih...</td>\n",
       "      <td>0</td>\n",
       "    </tr>\n",
       "    <tr>\n",
       "      <th>1</th>\n",
       "      <td>ger_train_1</td>\n",
       "      <td>Sag ich doch, wir befeuern den Klimawandel. Ra...</td>\n",
       "      <td>0</td>\n",
       "    </tr>\n",
       "    <tr>\n",
       "      <th>2</th>\n",
       "      <td>ger_train_2</td>\n",
       "      <td>Schublade auf, Schublade zu. Zu mehr Denkleist...</td>\n",
       "      <td>1</td>\n",
       "    </tr>\n",
       "    <tr>\n",
       "      <th>3</th>\n",
       "      <td>ger_train_3</td>\n",
       "      <td>Dummerweise haben wir in der EU und in der USA...</td>\n",
       "      <td>0</td>\n",
       "    </tr>\n",
       "    <tr>\n",
       "      <th>4</th>\n",
       "      <td>ger_train_4</td>\n",
       "      <td>\"So lange Gewinnmaximierung Vorrang hat, wird ...</td>\n",
       "      <td>0</td>\n",
       "    </tr>\n",
       "  </tbody>\n",
       "</table>\n",
       "</div>"
      ],
      "text/plain": [
       "            id                                       comment_text  toxic\n",
       "0  ger_train_0  Ziemlich traurig diese Kommentare zu lesen. Ih...      0\n",
       "1  ger_train_1  Sag ich doch, wir befeuern den Klimawandel. Ra...      0\n",
       "2  ger_train_2  Schublade auf, Schublade zu. Zu mehr Denkleist...      1\n",
       "3  ger_train_3  Dummerweise haben wir in der EU und in der USA...      0\n",
       "4  ger_train_4  \"So lange Gewinnmaximierung Vorrang hat, wird ...      0"
      ]
     },
     "execution_count": 95,
     "metadata": {},
     "output_type": "execute_result"
    }
   ],
   "source": [
    "ger_df_cleaned = ger_df[['comment_id','comment_text', 'Sub1_Toxic']].copy()\n",
    "ger_df_cleaned.rename(columns={\n",
    "    'comment_id': 'id',\n",
    "    'Sub1_Toxic': 'toxic'\n",
    "}, inplace=True)\n",
    "ger_df_cleaned = rename_ids(ger_df_cleaned, 'ger')\n",
    "\n",
    "ger_df_cleaned.info()\n",
    "ger_df_cleaned.head()"
   ]
  },
  {
   "cell_type": "code",
   "execution_count": 93,
   "id": "a25f20d7-9128-4b36-8c61-25d318973da1",
   "metadata": {
    "tags": []
   },
   "outputs": [
    {
     "name": "stdout",
     "output_type": "stream",
     "text": [
      "<class 'pandas.core.frame.DataFrame'>\n",
      "RangeIndex: 376 entries, 0 to 375\n",
      "Data columns (total 3 columns):\n",
      " #   Column        Non-Null Count  Dtype \n",
      "---  ------        --------------  ----- \n",
      " 0   id            376 non-null    object\n",
      " 1   comment_text  376 non-null    object\n",
      " 2   toxic         376 non-null    int64 \n",
      "dtypes: int64(1), object(2)\n",
      "memory usage: 8.9+ KB\n"
     ]
    },
    {
     "data": {
      "text/html": [
       "<div>\n",
       "<style scoped>\n",
       "    .dataframe tbody tr th:only-of-type {\n",
       "        vertical-align: middle;\n",
       "    }\n",
       "\n",
       "    .dataframe tbody tr th {\n",
       "        vertical-align: top;\n",
       "    }\n",
       "\n",
       "    .dataframe thead th {\n",
       "        text-align: right;\n",
       "    }\n",
       "</style>\n",
       "<table border=\"1\" class=\"dataframe\">\n",
       "  <thead>\n",
       "    <tr style=\"text-align: right;\">\n",
       "      <th></th>\n",
       "      <th>id</th>\n",
       "      <th>comment_text</th>\n",
       "      <th>toxic</th>\n",
       "    </tr>\n",
       "  </thead>\n",
       "  <tbody>\n",
       "    <tr>\n",
       "      <th>0</th>\n",
       "      <td>fin_train_0</td>\n",
       "      <td>Persujen mamu-puputus kyllästyttää  mutta mamu...</td>\n",
       "      <td>1</td>\n",
       "    </tr>\n",
       "    <tr>\n",
       "      <th>1</th>\n",
       "      <td>fin_train_1</td>\n",
       "      <td>Suvakit ja hyysärit haluaa saada lapset omaan ...</td>\n",
       "      <td>1</td>\n",
       "    </tr>\n",
       "    <tr>\n",
       "      <th>2</th>\n",
       "      <td>fin_train_2</td>\n",
       "      <td>VIELÄ YKSI ASIA! NÄMÄ EI OLE HENKILÖVAALIT,VAA...</td>\n",
       "      <td>0</td>\n",
       "    </tr>\n",
       "    <tr>\n",
       "      <th>3</th>\n",
       "      <td>fin_train_3</td>\n",
       "      <td>Halosen aikana on lapsiin ja naisiin kohdistun...</td>\n",
       "      <td>1</td>\n",
       "    </tr>\n",
       "    <tr>\n",
       "      <th>4</th>\n",
       "      <td>fin_train_4</td>\n",
       "      <td>Byää! Byää! Jos tulee vammoja, byää! Saatanan ...</td>\n",
       "      <td>1</td>\n",
       "    </tr>\n",
       "  </tbody>\n",
       "</table>\n",
       "</div>"
      ],
      "text/plain": [
       "            id                                       comment_text  toxic\n",
       "0  fin_train_0  Persujen mamu-puputus kyllästyttää  mutta mamu...      1\n",
       "1  fin_train_1  Suvakit ja hyysärit haluaa saada lapset omaan ...      1\n",
       "2  fin_train_2  VIELÄ YKSI ASIA! NÄMÄ EI OLE HENKILÖVAALIT,VAA...      0\n",
       "3  fin_train_3  Halosen aikana on lapsiin ja naisiin kohdistun...      1\n",
       "4  fin_train_4  Byää! Byää! Jos tulee vammoja, byää! Saatanan ...      1"
      ]
     },
     "execution_count": 93,
     "metadata": {},
     "output_type": "execute_result"
    }
   ],
   "source": [
    "clean_labels = ['toxicity', 'not-toxicity', 'severe_toxicity']\n",
    "fin_df_cleaned = fin_df[fin_df['label'].isin(clean_labels)].copy()\n",
    "\n",
    "label_map = {'toxicity': 1, 'severe_toxicity': 1, 'not-toxicity': 0}\n",
    "fin_df_cleaned['toxic'] = fin_df_cleaned['label'].map(label_map)\n",
    "\n",
    "fin_df_cleaned.rename(columns={\n",
    "            'ID': 'id',\n",
    "            'text': 'comment_text'\n",
    "}, inplace=True)\n",
    "fin_df_cleaned.drop(columns=['label'], inplace=True)\n",
    "fin_df_cleaned = rename_ids(fin_df_cleaned, 'fin')\n",
    "\n",
    "fin_df_cleaned.info()\n",
    "fin_df_cleaned.head(5)"
   ]
  },
  {
   "cell_type": "code",
   "execution_count": 82,
   "id": "893aa015-fdae-4a08-b2dd-795b5c94233c",
   "metadata": {
    "tags": []
   },
   "outputs": [
    {
     "name": "stdout",
     "output_type": "stream",
     "text": [
      "Number of duplicate: 0\n"
     ]
    }
   ],
   "source": [
    "fin_duplicates_count = fin_df_cleaned['comment_text'].duplicated().sum()\n",
    "print(f\"Number of duplicate: {fin_duplicates_count}\")"
   ]
  },
  {
   "cell_type": "code",
   "execution_count": 101,
   "id": "07e3979b-1aec-457d-9172-96d778969ecb",
   "metadata": {
    "tags": []
   },
   "outputs": [
    {
     "data": {
      "text/html": [
       "<div>\n",
       "<style scoped>\n",
       "    .dataframe tbody tr th:only-of-type {\n",
       "        vertical-align: middle;\n",
       "    }\n",
       "\n",
       "    .dataframe tbody tr th {\n",
       "        vertical-align: top;\n",
       "    }\n",
       "\n",
       "    .dataframe thead th {\n",
       "        text-align: right;\n",
       "    }\n",
       "</style>\n",
       "<table border=\"1\" class=\"dataframe\">\n",
       "  <thead>\n",
       "    <tr style=\"text-align: right;\">\n",
       "      <th></th>\n",
       "      <th>id</th>\n",
       "      <th>comment_text</th>\n",
       "      <th>toxic</th>\n",
       "    </tr>\n",
       "  </thead>\n",
       "  <tbody>\n",
       "    <tr>\n",
       "      <th>0</th>\n",
       "      <td>eng_train_0</td>\n",
       "      <td>I supported Barack Obama. I thought it was abs...</td>\n",
       "      <td>0</td>\n",
       "    </tr>\n",
       "    <tr>\n",
       "      <th>1</th>\n",
       "      <td>eng_train_1</td>\n",
       "      <td>what to hell with that!</td>\n",
       "      <td>1</td>\n",
       "    </tr>\n",
       "    <tr>\n",
       "      <th>2</th>\n",
       "      <td>eng_train_2</td>\n",
       "      <td>and the stupidity of the haters continues, thi...</td>\n",
       "      <td>1</td>\n",
       "    </tr>\n",
       "    <tr>\n",
       "      <th>3</th>\n",
       "      <td>eng_train_3</td>\n",
       "      <td>Alberta has been in debt under the Conservativ...</td>\n",
       "      <td>0</td>\n",
       "    </tr>\n",
       "    <tr>\n",
       "      <th>4</th>\n",
       "      <td>eng_train_4</td>\n",
       "      <td>The TV is in Channel Search mode, and I have p...</td>\n",
       "      <td>0</td>\n",
       "    </tr>\n",
       "    <tr>\n",
       "      <th>...</th>\n",
       "      <td>...</td>\n",
       "      <td>...</td>\n",
       "      <td>...</td>\n",
       "    </tr>\n",
       "    <tr>\n",
       "      <th>295</th>\n",
       "      <td>fin_train_95</td>\n",
       "      <td>\"Siis jopas on typerää! Vain Ari Koivusen fani...</td>\n",
       "      <td>1</td>\n",
       "    </tr>\n",
       "    <tr>\n",
       "      <th>296</th>\n",
       "      <td>fin_train_96</td>\n",
       "      <td>http://karavaanari.info/index.php?option=com_s...</td>\n",
       "      <td>0</td>\n",
       "    </tr>\n",
       "    <tr>\n",
       "      <th>297</th>\n",
       "      <td>fin_train_97</td>\n",
       "      <td>otetaanko huomioon myös raiskatut ja ylihyväil...</td>\n",
       "      <td>1</td>\n",
       "    </tr>\n",
       "    <tr>\n",
       "      <th>298</th>\n",
       "      <td>fin_train_98</td>\n",
       "      <td>Ptörä irti ja kiristät yhtä mutteria siellä va...</td>\n",
       "      <td>0</td>\n",
       "    </tr>\n",
       "    <tr>\n",
       "      <th>299</th>\n",
       "      <td>fin_train_99</td>\n",
       "      <td>Missä lie hän on  Kumpa saisin pusutella sinua...</td>\n",
       "      <td>0</td>\n",
       "    </tr>\n",
       "  </tbody>\n",
       "</table>\n",
       "<p>300 rows × 3 columns</p>\n",
       "</div>"
      ],
      "text/plain": [
       "               id                                       comment_text  toxic\n",
       "0     eng_train_0  I supported Barack Obama. I thought it was abs...      0\n",
       "1     eng_train_1                            what to hell with that!      1\n",
       "2     eng_train_2  and the stupidity of the haters continues, thi...      1\n",
       "3     eng_train_3  Alberta has been in debt under the Conservativ...      0\n",
       "4     eng_train_4  The TV is in Channel Search mode, and I have p...      0\n",
       "..            ...                                                ...    ...\n",
       "295  fin_train_95  \"Siis jopas on typerää! Vain Ari Koivusen fani...      1\n",
       "296  fin_train_96  http://karavaanari.info/index.php?option=com_s...      0\n",
       "297  fin_train_97  otetaanko huomioon myös raiskatut ja ylihyväil...      1\n",
       "298  fin_train_98  Ptörä irti ja kiristät yhtä mutteria siellä va...      0\n",
       "299  fin_train_99  Missä lie hän on  Kumpa saisin pusutella sinua...      0\n",
       "\n",
       "[300 rows x 3 columns]"
      ]
     },
     "execution_count": 101,
     "metadata": {},
     "output_type": "execute_result"
    }
   ],
   "source": [
    "train_sizes = [100, 200, 350]\n",
    "train_dfs = {} \n",
    "\n",
    "for n, train_size in enumerate(train_sizes):\n",
    "    df_key = f\"train_df_{train_size*3}\"\n",
    "\n",
    "    # Concatenate the head of each dataframe using the correct train_size\n",
    "    train_dfs[df_key] = pd.concat(\n",
    "        [\n",
    "            eng_df_cleaned.head(train_size), \n",
    "            ger_df_cleaned.head(train_size),\n",
    "            fin_df_cleaned.head(train_size)\n",
    "        ],\n",
    "        ignore_index=True\n",
    "    )\n",
    "\n",
    "train_dfs['train_df_300'].head(300)"
   ]
  },
  {
   "cell_type": "markdown",
   "id": "472ddc54-56bd-4515-ae24-2b66b97876c8",
   "metadata": {},
   "source": [
    "### Export to TSV "
   ]
  },
  {
   "cell_type": "code",
   "execution_count": 102,
   "id": "e857cd1c-17cf-495f-9bdb-26c0405095af",
   "metadata": {
    "tags": []
   },
   "outputs": [
    {
     "name": "stdout",
     "output_type": "stream",
     "text": [
      "Successfully exported DataFrame 'train_df_300' to file 'train_df_300.tsv'\n",
      "Successfully exported DataFrame 'train_df_600' to file 'train_df_600.tsv'\n",
      "Successfully exported DataFrame 'train_df_1050' to file 'train_df_1050.tsv'\n"
     ]
    }
   ],
   "source": [
    "for df_key, df_value in train_dfs.items():\n",
    "    file_name = f\"{df_key}.tsv\"\n",
    "    file_root = 'data'\n",
    "    file_loc = f'{file_root}/{file_name}'\n",
    "    \n",
    "    df_value.to_csv(file_loc, sep='\\t', index=False)\n",
    "    print(f\"Successfully exported DataFrame '{df_key}' to file '{file_name}'\")"
   ]
  },
  {
   "cell_type": "code",
   "execution_count": null,
   "id": "ccf3a9e3-ee74-4ce2-842f-220a4ac06bee",
   "metadata": {},
   "outputs": [],
   "source": []
  }
 ],
 "metadata": {
  "kernelspec": {
   "display_name": "Python 3",
   "language": "python",
   "name": "python3"
  },
  "language_info": {
   "codemirror_mode": {
    "name": "ipython",
    "version": 3
   },
   "file_extension": ".py",
   "mimetype": "text/x-python",
   "name": "python",
   "nbconvert_exporter": "python",
   "pygments_lexer": "ipython3",
   "version": "3.10.12"
  }
 },
 "nbformat": 4,
 "nbformat_minor": 5
}
