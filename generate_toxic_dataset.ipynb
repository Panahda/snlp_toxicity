{
 "cells": [
  {
   "cell_type": "markdown",
   "id": "768c8a00-1d20-42e4-be87-a706185093b5",
   "metadata": {},
   "source": [
    "### Datasets:\n",
    "#### German\n",
    "1. https://github.com/germeval2021toxic/SharedTask\n",
    "#### Finnish\n",
    "2. https://huggingface.co/datasets/TurkuNLP/Suomi24-toxicity-annotated"
   ]
  },
  {
   "cell_type": "code",
   "execution_count": null,
   "id": "74f069c6-43c6-4cbb-a023-462fe17eb7da",
   "metadata": {},
   "outputs": [],
   "source": []
  }
 ],
 "metadata": {
  "kernelspec": {
   "display_name": "Python 3",
   "language": "python",
   "name": "python3"
  },
  "language_info": {
   "codemirror_mode": {
    "name": "ipython",
    "version": 3
   },
   "file_extension": ".py",
   "mimetype": "text/x-python",
   "name": "python",
   "nbconvert_exporter": "python",
   "pygments_lexer": "ipython3",
   "version": "3.10.12"
  }
 },
 "nbformat": 4,
 "nbformat_minor": 5
}
